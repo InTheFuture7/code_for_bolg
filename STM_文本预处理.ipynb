{
 "cells": [
  {
   "cell_type": "code",
   "execution_count": null,
   "metadata": {},
   "outputs": [],
   "source": [
    "pwd"
   ]
  },
  {
   "cell_type": "markdown",
   "metadata": {},
   "source": [
    "## 1.导入数据"
   ]
  },
  {
   "cell_type": "markdown",
   "metadata": {},
   "source": [
    "data_zh.xlsx\n",
    "\n",
    "此文件必须含有一列列名为`text`，列中数据为普通文本。\n",
    "可以补充其他相关信息列"
   ]
  },
  {
   "cell_type": "code",
   "execution_count": null,
   "metadata": {},
   "outputs": [],
   "source": [
    "import jieba\n",
    "import numpy as np\n",
    "import pandas as pd\n",
    "import csv"
   ]
  },
  {
   "cell_type": "code",
   "execution_count": null,
   "metadata": {},
   "outputs": [],
   "source": [
    "xlsx_file = pd.read_excel('./data_zh.xlsx')\n",
    "csv_file = xlsx_file.to_csv('./data_zh.csv', encoding='utf-8')\n",
    "csv_file=pd.read_csv('./data_zh.csv', low_memory=False, encoding='utf-8')"
   ]
  },
  {
   "cell_type": "code",
   "execution_count": null,
   "metadata": {},
   "outputs": [],
   "source": [
    "df_file=pd.DataFrame(csv_file)\n",
    "df_file.head(14)"
   ]
  },
  {
   "cell_type": "markdown",
   "metadata": {},
   "source": [
    "## 2. 数据预处理"
   ]
  },
  {
   "cell_type": "markdown",
   "metadata": {},
   "source": [
    "### 2.1 去除非中文字符"
   ]
  },
  {
   "cell_type": "code",
   "execution_count": null,
   "metadata": {},
   "outputs": [],
   "source": [
    "def format_str(document):\n",
    "    '''去除非中文字符'''\n",
    "    content_str=''\n",
    "    for _char in document:\n",
    "        if (_char >= u'\\u4e00' and _char <= u'\\u9fa5'):\n",
    "            content_str = content_str + _char\n",
    "        else:\n",
    "            continue\n",
    "    return content_str\n",
    "\n",
    "# 读取csv文件中的text列，将所有文章构成一个list\n",
    "document_list = list(df_file['text'])\n",
    "chinese_list=[]\n",
    "for document in document_list:\n",
    "    chinese_list.append(format_str(document))  "
   ]
  },
  {
   "cell_type": "code",
   "execution_count": null,
   "metadata": {},
   "outputs": [],
   "source": [
    "chinese_list"
   ]
  },
  {
   "cell_type": "markdown",
   "metadata": {},
   "source": [
    "### 2.2 jieba分词"
   ]
  },
  {
   "cell_type": "markdown",
   "metadata": {},
   "source": [
    "自定义词典dict_my.txt的格式为：\n",
    "\n",
    "词 3 n"
   ]
  },
  {
   "cell_type": "code",
   "execution_count": null,
   "metadata": {},
   "outputs": [],
   "source": [
    "jieba.load_userdict(\"./dict_my.txt\")"
   ]
  },
  {
   "cell_type": "code",
   "execution_count": null,
   "metadata": {},
   "outputs": [],
   "source": [
    "word_lists=[]\n",
    "for i in range(len(chinese_list)):\n",
    "    result=[]\n",
    "    seg_list=jieba.cut(chinese_list[i])\n",
    "    for word in seg_list:\n",
    "        result.append(word)\n",
    "    word_lists.append(result)\n",
    "word_lists"
   ]
  },
  {
   "cell_type": "markdown",
   "metadata": {},
   "source": [
    "### 2.3 导入停用词库、自定义字典"
   ]
  },
  {
   "cell_type": "markdown",
   "metadata": {},
   "source": [
    "停用词库stopwords_my.txt格式为：两个停用词间换行"
   ]
  },
  {
   "cell_type": "code",
   "execution_count": null,
   "metadata": {},
   "outputs": [],
   "source": [
    "# 导入停用词\n",
    "f=open(\"./stopwords_my.txt\", 'r', encoding='utf-8')\n",
    "stop_word_list=[]\n",
    "for line in f.readlines():\n",
    "    stop_word_list.append(line.strip('\\n'))"
   ]
  },
  {
   "cell_type": "code",
   "execution_count": null,
   "metadata": {},
   "outputs": [],
   "source": [
    "contents_clean = []\n",
    "for word_list in word_lists:\n",
    "    line_clean = []\n",
    "    for word in word_list:\n",
    "        if word in stop_word_list:\n",
    "            continue\n",
    "        line_clean.append(word)\n",
    "    contents_clean.append(line_clean)"
   ]
  },
  {
   "cell_type": "code",
   "execution_count": null,
   "metadata": {},
   "outputs": [],
   "source": [
    "# 去除停用词后的文本 list\n",
    "contents_clean"
   ]
  },
  {
   "cell_type": "markdown",
   "metadata": {},
   "source": [
    "### 2.4 显示高频无用词\n",
    "显示高频词，并将高频且无意义的词放置停用词库"
   ]
  },
  {
   "cell_type": "code",
   "execution_count": null,
   "metadata": {},
   "outputs": [],
   "source": [
    "# 将分此后的结果合并至一个list中\n",
    "all_words = []\n",
    "for line in contents_clean:\n",
    "    for word in line:\n",
    "        all_words.append(word)\n",
    "all_words"
   ]
  },
  {
   "cell_type": "code",
   "execution_count": null,
   "metadata": {},
   "outputs": [],
   "source": [
    "# 统计词频\n",
    "from collections import Counter\n",
    "\n",
    "wordcount = Counter(all_words)\n",
    "word_count = wordcount.most_common(50)\n",
    "\n",
    "frequence_list = []\n",
    "for i in range(len(word_count)):\n",
    "    frequence_list.append(word_count[i][0])\n",
    "frequence_list"
   ]
  },
  {
   "cell_type": "code",
   "execution_count": null,
   "metadata": {},
   "outputs": [],
   "source": [
    "# 获取不在停用词库中的高频词\n",
    "need_to_add_stopword = []\n",
    "for i in frequence_list:\n",
    "    if i not in stop_word_list:\n",
    "        need_to_add_stopword.append(i)\n",
    "    else:\n",
    "        continue\n",
    "print(need_to_add_stopword)"
   ]
  },
  {
   "cell_type": "code",
   "execution_count": null,
   "metadata": {},
   "outputs": [],
   "source": [
    "# 直接将以下输出结果放至 停用词库\n",
    "print(\"\\n\".join(str(i) for i in need_to_add_stopword))"
   ]
  },
  {
   "cell_type": "markdown",
   "metadata": {},
   "source": [
    "### 2.5 分词后拼接"
   ]
  },
  {
   "cell_type": "code",
   "execution_count": null,
   "metadata": {},
   "outputs": [],
   "source": [
    "word_list=[]\n",
    "for i in range(len(contents_clean)):\n",
    "    k_list=['']\n",
    "    for j in range(len(contents_clean[i])):\n",
    "        k_list[0] += (contents_clean[i][j] + ' ')\n",
    "    word_list.append(k_list[0])"
   ]
  },
  {
   "cell_type": "code",
   "execution_count": null,
   "metadata": {},
   "outputs": [],
   "source": [
    "word_list"
   ]
  },
  {
   "cell_type": "markdown",
   "metadata": {},
   "source": [
    "## 3. 合并数据"
   ]
  },
  {
   "cell_type": "markdown",
   "metadata": {},
   "source": [
    "### 3.1 分词结果写入df"
   ]
  },
  {
   "cell_type": "code",
   "execution_count": null,
   "metadata": {},
   "outputs": [],
   "source": [
    "word_data=pd.DataFrame({'text1':word_list})\n",
    "word_data.head()"
   ]
  },
  {
   "cell_type": "markdown",
   "metadata": {},
   "source": [
    "### 3.2 拼接两个df"
   ]
  },
  {
   "cell_type": "code",
   "execution_count": null,
   "metadata": {},
   "outputs": [],
   "source": [
    "data = df_file.join(word_data)"
   ]
  },
  {
   "cell_type": "code",
   "execution_count": null,
   "metadata": {},
   "outputs": [],
   "source": [
    "data.head()"
   ]
  },
  {
   "cell_type": "markdown",
   "metadata": {},
   "source": [
    "### 3.3 整理新的df"
   ]
  },
  {
   "cell_type": "code",
   "execution_count": null,
   "metadata": {},
   "outputs": [],
   "source": [
    "# 重设df的列名，根据需求设置列名，‘jiebatext’为上述处理后的列\n",
    "data.columns=['order','yearseries', 'year', 'title', 'text', 'jiebatext']"
   ]
  },
  {
   "cell_type": "code",
   "execution_count": null,
   "metadata": {},
   "outputs": [],
   "source": [
    "data.head()"
   ]
  },
  {
   "cell_type": "code",
   "execution_count": null,
   "metadata": {},
   "outputs": [],
   "source": [
    "# 删除不需要的列\n",
    "del data['order']"
   ]
  },
  {
   "cell_type": "code",
   "execution_count": null,
   "metadata": {},
   "outputs": [],
   "source": [
    "# 查看最终的df\n",
    "data.head()"
   ]
  },
  {
   "cell_type": "markdown",
   "metadata": {},
   "source": [
    "### 4. 结果写入csv文件并导出来excel\n",
    "经测试，R语言实现结构主体模型（STM）最好输入xlsx，因为csv会因为分隔符等问题而报错"
   ]
  },
  {
   "cell_type": "code",
   "execution_count": null,
   "metadata": {},
   "outputs": [],
   "source": [
    "data.to_csv(path_or_buf='./data_zh_done.csv', index=False, encoding='utf-8')"
   ]
  },
  {
   "cell_type": "code",
   "execution_count": null,
   "metadata": {},
   "outputs": [],
   "source": [
    "csv_file=pd.read_csv('./data_zh_done.csv', low_memory=False, encoding='utf-8')\n",
    "csv_file.to_excel('./data_zh_done.xlsx', index=False, encoding='utf-8')"
   ]
  }
 ],
 "metadata": {
  "kernelspec": {
   "display_name": "Python 3",
   "language": "python",
   "name": "python3"
  },
  "language_info": {
   "codemirror_mode": {
    "name": "ipython",
    "version": 3
   },
   "file_extension": ".py",
   "mimetype": "text/x-python",
   "name": "python",
   "nbconvert_exporter": "python",
   "pygments_lexer": "ipython3",
   "version": "3.8.8"
  }
 },
 "nbformat": 4,
 "nbformat_minor": 2
}
